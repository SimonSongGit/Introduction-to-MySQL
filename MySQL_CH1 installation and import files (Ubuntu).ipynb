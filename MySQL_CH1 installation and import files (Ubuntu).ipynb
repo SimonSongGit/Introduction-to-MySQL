{
 "cells": [
  {
   "cell_type": "markdown",
   "metadata": {},
   "source": [
    "## 1. Installation <br>\n",
    "\n",
    "1. installation:\n",
    "    1. on command line: \\$sudo apt update\n",
    "    2. then: \\$sudo apt install mysql-server\n",
    "    3. install: \\$sudo mysql_secure_installation (setup password for users)\n",
    "    4. login mysql: \\$sudo mysql\n",
    "    5. check the login plugin: \\$select user,host,plugin from mysql.user;\n",
    "    6. change root login plugin to enable using password: \n",
    "        1. step 1: \\$alter user 'root'@'localhost' identified with caching_sha2_password by 'yourpassword';\n",
    "        2. step 2: \\$flush privileges;\n",
    "    7. now you can login in with: \\$mysql -u root -p\n",
    "       "
   ]
  },
  {
   "cell_type": "markdown",
   "metadata": {},
   "source": [
    "## 2. Enable remote access<sup>[1,2]</sup> <br>\n",
    "\n",
    "1. allow remote connection to your MySQL server:\n",
    "    1. change database remote setting: \\$sudo nano /etc/mysql/mysql.conf.d/mysqld.cnf\n",
    "    2. inside the mysqld.cnf file, change bind-address to: bind-address = 0.0.0.0 (if you don't have this, add it)\n",
    "    3. save this file (CTRL+X, Y and then 'enter')\n",
    "    4. setup port allow your remote ip adress: \\$sudo ufw allow from 'your remote ip address' to any port 3306\n",
    "    5. restart your mysql: \\$sudo systemctl restart mysql\n",
    "    6. create user for local and remote ip address: \n",
    "        1. step 1: \\$create user 'myuser'@'localhost' identified by 'password';\n",
    "        2. step 2: \\$create user 'myuser'@'localhost' identified by 'password';\n",
    "        3. step 3: \\$grant all on *.* to 'myuser'@'localhost';\n",
    "        4. step 4: \\$grant all on *.* to 'myuser'@'remote_ip_address';<sup>[3]</sup> (for example 'myuser'@'192.111.125.9')\n",
    "        5. step 5: \\$flush privileges;\n",
    "        6. step 6: \\$exit;\n",
    "        7. step 7 check if users are created successfully: \\$select user,host,plugin from mysql.user;\n",
    "    7. now log in from your remote computer/or virtualbox: mysql -u myuser -h your_server_ip -p\n",
    "                                                                                   \n",
    "References:<br>\n",
    "[1].https://www.digitalocean.com/community/tutorials/how-to-allow-remote-access-to-mysql <br>\n",
    "[2].https://stackoverflow.com/questions/15663001/remote-connections-mysql-ubuntu <br>\n",
    "[3].check ip address on windows terminal: ipconfig; on Ubuntu terminal: \\$ip address show"
   ]
  },
  {
   "cell_type": "markdown",
   "metadata": {},
   "source": [
    "## 3. import multiple sql files to a database\n",
    "\n",
    "1. cat all your sql files in your sql file folder on terminal: \\$cat *.sql | mysql -u root -p databaseName\n",
    "2. databaseName is the database you created in your server, if not yet create, you have to log in mysql to create it first.\n",
    "\n",
    "\n",
    "## 4. import one sql file to database\n",
    "\n",
    "on terminal: \\$ mysql -u root -p databaseName < tablename.sql"
   ]
  }
 ],
 "metadata": {
  "kernelspec": {
   "display_name": "Python 3",
   "language": "python",
   "name": "python3"
  },
  "language_info": {
   "codemirror_mode": {
    "name": "ipython",
    "version": 3
   },
   "file_extension": ".py",
   "mimetype": "text/x-python",
   "name": "python",
   "nbconvert_exporter": "python",
   "pygments_lexer": "ipython3",
   "version": "3.6.8"
  }
 },
 "nbformat": 4,
 "nbformat_minor": 2
}
